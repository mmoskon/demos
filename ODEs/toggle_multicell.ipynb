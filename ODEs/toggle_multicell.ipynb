{
 "cells": [
  {
   "cell_type": "markdown",
   "metadata": {},
   "source": [
    "This demo describes an example of a multicellular model implementing a toggle switch using models of multicellular biological YES and NOT gates defined in `models_multicell.py`."
   ]
  },
  {
   "cell_type": "code",
   "execution_count": 8,
   "metadata": {},
   "outputs": [],
   "source": [
    "import numpy as np\n",
    "import matplotlib.pyplot as plt\n",
    "from scipy.integrate import solve_ivp\n",
    "\n",
    "import models_multicell\n",
    "from parameters import *"
   ]
  },
  {
   "cell_type": "markdown",
   "metadata": {},
   "source": [
    "# Toggle switch model\n",
    "An example of a toogle switch model connecting two mutually inhibiting NOT gates (see Fig. E).\n",
    "\n",
    "![](https://ars.els-cdn.com/content/image/1-s2.0-S0010482520304406-gr1.jpg)\n",
    "\n",
    "A more detailed description of this model is available at (https://doi.org/10.1016/j.compbiomed.2020.104109)."
   ]
  },
  {
   "cell_type": "code",
   "execution_count": 2,
   "metadata": {},
   "outputs": [],
   "source": [
    "def toggle_model(T, state, *params):\n",
    "    L_A, L_B, a, b = state\n",
    "\n",
    "    state_A = L_A, a, b\n",
    "    state_B = L_B, b, a\n",
    "    \n",
    "    delta_L, gamma_A, gamma_B, n_a, n_b, theta_A, theta_B, eta_a, eta_b, omega_a, omega_b, m_a, m_b, delta_a, delta_b, rho_a, rho_b = params\n",
    "\n",
    "    params_A = delta_L, gamma_A, n_b, theta_A, eta_a, omega_a, m_a, delta_a, rho_a\n",
    "    params_B = delta_L, gamma_B, n_a, theta_B, eta_b, omega_b, m_b, delta_b, rho_b\n",
    "\n",
    "    dL_A_dt, da_dt = models_multicell.not_cell(state_A, params_A)\n",
    "    dL_B_dt, db_dt = models_multicell.not_cell(state_B, params_B)\n",
    "    \n",
    "    return np.array([dL_A_dt, dL_B_dt, da_dt, db_dt])\n",
    " "
   ]
  },
  {
   "cell_type": "markdown",
   "metadata": {},
   "source": [
    "# Testing the model"
   ]
  },
  {
   "cell_type": "markdown",
   "metadata": {},
   "source": [
    "### Setting the parameters"
   ]
  },
  {
   "cell_type": "code",
   "execution_count": 6,
   "metadata": {},
   "outputs": [],
   "source": [
    "params = [delta_L, \n",
    "          gamma_A, \n",
    "          gamma_A,\n",
    "          n_a, \n",
    "          n_a, \n",
    "          theta_A, \n",
    "          theta_A, \n",
    "          eta_a, \n",
    "          eta_a, \n",
    "          omega_a, \n",
    "          omega_a, \n",
    "          m_a, \n",
    "          m_a, \n",
    "          delta_a, \n",
    "          delta_a, \n",
    "          rho_a, # increased degradation rates are used to trigger a switch\n",
    "          rho_a] # increased degradation rates are used to trigger a switch\n",
    "\n",
    "t_end = 250"
   ]
  },
  {
   "cell_type": "markdown",
   "metadata": {},
   "source": [
    "### Running the simulation and plotting the results"
   ]
  },
  {
   "cell_type": "code",
   "execution_count": 7,
   "metadata": {},
   "outputs": [
    {
     "data": {
      "text/plain": [
       "[]"
      ]
     },
     "execution_count": 7,
     "metadata": {},
     "output_type": "execute_result"
    },
    {
     "data": {
      "image/png": "[encoded data removed]",
      "text/plain": [
       "<Figure size 432x288 with 1 Axes>"
      ]
     },
     "metadata": {
      "needs_background": "light"
     },
     "output_type": "display_data"
    }
   ],
   "source": [
    "# set simulation parameters\n",
    "N = t_end*10 # number of samples\n",
    "T = np.linspace(0, t_end, N)\n",
    "\n",
    "Y0 = np.zeros(4)\n",
    "Y0[2] = 0\n",
    "\n",
    "###\n",
    "# first case: b is degraded which means a will be activated\n",
    "# degrade b --> activate a\n",
    "params[-2] = 0 # rho_a\n",
    "params[-1] = rho_a # rho_b\n",
    "sol = solve_ivp(toggle_model, [0, t_end], Y0, args=params, dense_output=True)\n",
    "z = sol.sol(T)\n",
    "\n",
    "AB = z.T[:, 2:]\n",
    "TT = T\n",
    "\n",
    "###\n",
    "# second case: the state is held\n",
    "# hold\n",
    "Y0 = z.T[-1, :]\n",
    "params[-2] = 0 # rho_a\n",
    "params[-1] = 0 # rho_b\n",
    "\n",
    "sol = solve_ivp(toggle_model, [0, t_end], Y0, args=params, dense_output=True)\n",
    "z = sol.sol(T)\n",
    "\n",
    "AB = np.concatenate((AB, z.T[:, 2:]), axis=0)\n",
    "TT = np.concatenate((TT, t_end+T), axis=0)\n",
    "\n",
    "###\n",
    "# third case: switch is iniated by increasing the degradation rate of a\n",
    "# degrade a --> activate b\n",
    "Y0 = z.T[-1, :]\n",
    "params[-2] = rho_a # rho_a\n",
    "params[-1] = 0 # rho_b\n",
    "\n",
    "sol = solve_ivp(toggle_model, [0, t_end], Y0, args=params, dense_output=True)\n",
    "z = sol.sol(T)\n",
    "\n",
    "AB = np.concatenate((AB, z.T[:, 2:]), axis=0)\n",
    "TT = np.concatenate((TT, 2*t_end+T), axis=0)\n",
    "\n",
    "###\n",
    "# fourth case: the state is held\n",
    "# hold\n",
    "Y0 = z.T[-1, :]\n",
    "params[-2] = 0 # rho_a\n",
    "params[-1] = 0 # rho_b\n",
    "\n",
    "sol = solve_ivp(toggle_model, [0, t_end], Y0, args=params, dense_output=True)\n",
    "z = sol.sol(T)\n",
    "\n",
    "AB = np.concatenate((AB, z.T[:, 2:]), axis=0)\n",
    "TT = np.concatenate((TT, 3*t_end+T), axis=0)\n",
    "\n",
    "ax = plt.gca()\n",
    "\n",
    "ax.plot(TT, AB)\n",
    "ax.legend(['a','b'])\n",
    "ax.set_xlabel('Time')\n",
    "ax.set_ylabel('Concentrations')  \n",
    "\n",
    "plt.plot()"
   ]
  },
  {
   "cell_type": "code",
   "execution_count": null,
   "metadata": {},
   "outputs": [],
   "source": []
  }
 ],
 "metadata": {
  "kernelspec": {
   "display_name": "Python 3",
   "language": "python",
   "name": "python3"
  },
  "language_info": {
   "codemirror_mode": {
    "name": "ipython",
    "version": 3
   },
   "file_extension": ".py",
   "mimetype": "text/x-python",
   "name": "python",
   "nbconvert_exporter": "python",
   "pygments_lexer": "ipython3",
   "version": "3.7.3"
  }
 },
 "nbformat": 4,
 "nbformat_minor": 2
}
